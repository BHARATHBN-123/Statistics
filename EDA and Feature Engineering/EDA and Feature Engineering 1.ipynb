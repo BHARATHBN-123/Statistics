{
 "cells": [
  {
   "cell_type": "code",
   "execution_count": null,
   "id": "bbb5b7e1",
   "metadata": {},
   "outputs": [],
   "source": [
    "import pandas as pd\n",
    "data=pd.read_csv(\"googleplaystore.csv\")"
   ]
  },
  {
   "cell_type": "code",
   "execution_count": null,
   "id": "5e77a8cc",
   "metadata": {},
   "outputs": [],
   "source": [
    "data.head()"
   ]
  },
  {
   "cell_type": "code",
   "execution_count": null,
   "id": "a82b6513",
   "metadata": {},
   "outputs": [],
   "source": [
    "data.shape"
   ]
  },
  {
   "cell_type": "code",
   "execution_count": null,
   "id": "bcaf8d55",
   "metadata": {},
   "outputs": [],
   "source": [
    "data.info()"
   ]
  },
  {
   "cell_type": "code",
   "execution_count": null,
   "id": "3b40f58e",
   "metadata": {},
   "outputs": [],
   "source": [
    "data.describe(include= \"all\").T"
   ]
  },
  {
   "cell_type": "code",
   "execution_count": null,
   "id": "30cfe033",
   "metadata": {},
   "outputs": [],
   "source": [
    "import numpy as np\n",
    "data[\"Size\"] = data[\"Size\"].str.replace(\"M\",\"000\")\n",
    "data[\"Size\"] = data[\"Size\"].str.replace(\"k\",\"\")\n",
    "data[\"Size\"] = data[\"Size\"].str.replace(\"Varies with device\",str(np.nan))"
   ]
  },
  {
   "cell_type": "code",
   "execution_count": null,
   "id": "75d71234",
   "metadata": {},
   "outputs": [],
   "source": [
    "data[\"Size\"].unique()"
   ]
  },
  {
   "cell_type": "code",
   "execution_count": null,
   "id": "e0a8ca54",
   "metadata": {},
   "outputs": [],
   "source": [
    "data[\"Size\"].dtype\n"
   ]
  },
  {
   "cell_type": "code",
   "execution_count": null,
   "id": "77c538c4",
   "metadata": {},
   "outputs": [],
   "source": [
    "data = data.drop(data[data[\"Size\"]=='1,000+'].index)\n",
    "data[\"Size\"] = data[\"Size\"].astype(\"float\")"
   ]
  },
  {
   "cell_type": "code",
   "execution_count": null,
   "id": "1f9aff3f",
   "metadata": {},
   "outputs": [],
   "source": [
    "data.columns\n"
   ]
  },
  {
   "cell_type": "code",
   "execution_count": null,
   "id": "4c0ed7f4",
   "metadata": {},
   "outputs": [],
   "source": [
    "data[\"Rating\"].unique()\n",
    "data[\"Rating\"] = data[\"Rating\"].astype(\"float\")"
   ]
  },
  {
   "cell_type": "code",
   "execution_count": null,
   "id": "10d4c449",
   "metadata": {},
   "outputs": [],
   "source": [
    "data[\"Reviews\"].astype(\"float\")"
   ]
  },
  {
   "cell_type": "code",
   "execution_count": null,
   "id": "9375e932",
   "metadata": {},
   "outputs": [],
   "source": [
    "data[\"Installs\"].unique()\n",
    "replace = [\"+\",\",\"]\n",
    "for i in replace:\n",
    "    data[\"Installs\"] = data[\"Installs\"].str.replace(i,\"\")\n",
    "     \n",
    "    "
   ]
  },
  {
   "cell_type": "code",
   "execution_count": null,
   "id": "62ee8319",
   "metadata": {},
   "outputs": [],
   "source": [
    "data[\"Installs\"].unique()\n",
    "data[\"Installs\"] = data[\"Installs\"].astype(\"float\")"
   ]
  },
  {
   "cell_type": "code",
   "execution_count": null,
   "id": "89373d9b",
   "metadata": {},
   "outputs": [],
   "source": [
    "data[\"Type\"].unique()\n",
    "data[\"Type\"]=data[\"Type\"].astype(\"str\")"
   ]
  },
  {
   "cell_type": "code",
   "execution_count": null,
   "id": "f0fc0ebd",
   "metadata": {},
   "outputs": [],
   "source": [
    "data[\"Price\"].unique()\n",
    "data[\"Price\"] = data[\"Price\"].str.replace(\"$\",\"\")\n",
    "data[\"Price\"].unique()"
   ]
  },
  {
   "cell_type": "code",
   "execution_count": null,
   "id": "35b2eacd",
   "metadata": {},
   "outputs": [],
   "source": [
    "data[\"Price\"]=data[\"Price\"].astype(\"float\")\n"
   ]
  },
  {
   "cell_type": "code",
   "execution_count": null,
   "id": "296a70f4",
   "metadata": {},
   "outputs": [],
   "source": [
    "data.describe()"
   ]
  },
  {
   "cell_type": "code",
   "execution_count": null,
   "id": "839cb083",
   "metadata": {},
   "outputs": [],
   "source": [
    "data.columns"
   ]
  },
  {
   "cell_type": "code",
   "execution_count": null,
   "id": "d0b558ff",
   "metadata": {},
   "outputs": [],
   "source": [
    "data[\"Last Updated\"] = pd.to_datetime(data[\"Last Updated\"])\n",
    "data[\"day\"]=data[\"Last Updated\"].dt.day\n",
    "data[\"month\"]=data[\"Last Updated\"].dt.month\n",
    "data[\"year\"]=data[\"Last Updated\"].dt.year\n"
   ]
  },
  {
   "cell_type": "code",
   "execution_count": null,
   "id": "ce7e6660",
   "metadata": {},
   "outputs": [],
   "source": [
    "data.head()"
   ]
  },
  {
   "cell_type": "code",
   "execution_count": null,
   "id": "c683d888",
   "metadata": {},
   "outputs": [],
   "source": [
    "data.to_csv(\"cleaned_data.csv\",index= False)"
   ]
  }
 ],
 "metadata": {
  "kernelspec": {
   "display_name": "Python 3 (ipykernel)",
   "language": "python",
   "name": "python3"
  },
  "language_info": {
   "codemirror_mode": {
    "name": "ipython",
    "version": 3
   },
   "file_extension": ".py",
   "mimetype": "text/x-python",
   "name": "python",
   "nbconvert_exporter": "python",
   "pygments_lexer": "ipython3",
   "version": "3.10.11"
  }
 },
 "nbformat": 4,
 "nbformat_minor": 5
}
