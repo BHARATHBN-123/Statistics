{
 "cells": [
  {
   "cell_type": "markdown",
   "id": "b7cb9fe1",
   "metadata": {},
   "source": [
    "# pandas-profiling package in python"
   ]
  },
  {
   "cell_type": "markdown",
   "id": "7b93ce50",
   "metadata": {},
   "source": [
    "\n",
    "pandas-profiling is a Python module that provides a one-line Exploratory Data Analysis (EDA) experience in a consistent and fast solution. It can be used to quickly generate interactive HTML reports that summarize the main statistical properties of a dataset, including its distribution, missing values, outliers, and correlations.\n",
    "\n"
   ]
  },
  {
   "cell_type": "markdown",
   "id": "25ae0210",
   "metadata": {},
   "source": [
    "# Import Libraries"
   ]
  },
  {
   "cell_type": "code",
   "execution_count": 3,
   "id": "a42cb5a0",
   "metadata": {},
   "outputs": [],
   "source": [
    "import pandas as pd\n",
    "import pandas_profiling as pp"
   ]
  },
  {
   "cell_type": "markdown",
   "id": "5a4eb2a4",
   "metadata": {},
   "source": [
    "# Load Dataset from csv file to Pandas Dataframe"
   ]
  },
  {
   "cell_type": "code",
   "execution_count": 4,
   "id": "c474faca",
   "metadata": {},
   "outputs": [],
   "source": [
    "data = pd.read_csv('titanic.csv')"
   ]
  },
  {
   "cell_type": "markdown",
   "id": "b6e85507",
   "metadata": {},
   "source": [
    "# Create Profile report of the dataset"
   ]
  },
  {
   "cell_type": "code",
   "execution_count": 5,
   "id": "c0e9a300",
   "metadata": {},
   "outputs": [],
   "source": [
    "output = pp.ProfileReport(data)"
   ]
  },
  {
   "cell_type": "markdown",
   "id": "8242c68b",
   "metadata": {},
   "source": [
    "# Export the report in HTML format"
   ]
  },
  {
   "cell_type": "code",
   "execution_count": 6,
   "id": "44047463",
   "metadata": {},
   "outputs": [
    {
     "data": {
      "application/vnd.jupyter.widget-view+json": {
       "model_id": "6431c5da38e44855b5a439f8f7675ea9",
       "version_major": 2,
       "version_minor": 0
      },
      "text/plain": [
       "Summarize dataset:   0%|          | 0/5 [00:00<?, ?it/s]"
      ]
     },
     "metadata": {},
     "output_type": "display_data"
    },
    {
     "data": {
      "application/vnd.jupyter.widget-view+json": {
       "model_id": "ccd2985c584546ab8a4bbf0dae51b26e",
       "version_major": 2,
       "version_minor": 0
      },
      "text/plain": [
       "Generate report structure:   0%|          | 0/1 [00:00<?, ?it/s]"
      ]
     },
     "metadata": {},
     "output_type": "display_data"
    },
    {
     "data": {
      "application/vnd.jupyter.widget-view+json": {
       "model_id": "012ea9c90032497395c5ea8f9c8e97fc",
       "version_major": 2,
       "version_minor": 0
      },
      "text/plain": [
       "Render HTML:   0%|          | 0/1 [00:00<?, ?it/s]"
      ]
     },
     "metadata": {},
     "output_type": "display_data"
    },
    {
     "data": {
      "application/vnd.jupyter.widget-view+json": {
       "model_id": "d2d341f0d9eb437c9c20124edb05372f",
       "version_major": 2,
       "version_minor": 0
      },
      "text/plain": [
       "Export report to file:   0%|          | 0/1 [00:00<?, ?it/s]"
      ]
     },
     "metadata": {},
     "output_type": "display_data"
    }
   ],
   "source": [
    "output.to_file(\"output.html\")"
   ]
  }
 ],
 "metadata": {
  "kernelspec": {
   "display_name": "Python 3 (ipykernel)",
   "language": "python",
   "name": "python3"
  },
  "language_info": {
   "codemirror_mode": {
    "name": "ipython",
    "version": 3
   },
   "file_extension": ".py",
   "mimetype": "text/x-python",
   "name": "python",
   "nbconvert_exporter": "python",
   "pygments_lexer": "ipython3",
   "version": "3.10.11"
  }
 },
 "nbformat": 4,
 "nbformat_minor": 5
}
