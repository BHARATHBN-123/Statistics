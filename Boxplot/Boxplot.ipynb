{
 "cells": [
  {
   "cell_type": "markdown",
   "id": "bca3f5a2",
   "metadata": {},
   "source": [
    "# Boxplot "
   ]
  },
  {
   "cell_type": "markdown",
   "id": "0a31a8b5",
   "metadata": {},
   "source": [
    "# Percentiles and Quantiles\n",
    "\n",
    "**percentile** is a measure used to indicate the value below which a given percentage of observations in a group of observations fall. For example, the 20th percentile is the value below which 20% of the observations may be found.\n",
    "\n",
    "A **quantile** is a value that divides a rank-ordered data set into two parts, such that a certain percentage of the data falls below the quantile and the remaining percentage falls above it. For example, the 25th percentile is the value below which 25% of the data falls and above which 75% of the data falls.\n",
    "\n"
   ]
  },
  {
   "cell_type": "markdown",
   "id": "9fa10eb6",
   "metadata": {},
   "source": [
    "<img src=\"https://miro.medium.com/max/9000/1*2c21SkzJMf3frPXPAR_gZA.png\">"
   ]
  },
  {
   "cell_type": "markdown",
   "id": "e1dc9ce2",
   "metadata": {},
   "source": [
    "# The parts of a boxplot are:\n",
    "**Minimum:** The smallest value in the data set.\n",
    "\n",
    "**First quartile (Q1):** The median of the lower half of the data set.\n",
    "\n",
    "**Median:** The middle value in the data set.\n",
    "\n",
    "**Third quartile (Q3):** The median of the upper half of the data set.\n",
    "\n",
    "**Maximum:** The largest value in the data set.\n",
    "\n",
    "**Outiers:** An outlier is a data point that differs significantly from other observations. Outliers may be due to a variability in the measurement, an indication of novel data, or it may be the result of experimental error; the latter are sometimes excluded from the data set."
   ]
  },
  {
   "cell_type": "code",
   "execution_count": 3,
   "id": "79740ff9",
   "metadata": {},
   "outputs": [],
   "source": [
    "import seaborn as sns\n"
   ]
  },
  {
   "cell_type": "code",
   "execution_count": 14,
   "id": "fdf87bb5",
   "metadata": {},
   "outputs": [],
   "source": [
    "data = [6,6,6,6,7,8,1,3,4,5,5,5,8,9,29,40,41,2,2,2,3]"
   ]
  },
  {
   "cell_type": "code",
   "execution_count": 15,
   "id": "9640fdec",
   "metadata": {},
   "outputs": [],
   "source": [
    "data.sort()"
   ]
  },
  {
   "cell_type": "code",
   "execution_count": 18,
   "id": "c797bc4d",
   "metadata": {},
   "outputs": [
    {
     "name": "stdout",
     "output_type": "stream",
     "text": [
      "[1, 2, 2, 2, 3, 3, 4, 5, 5, 5, 6, 6, 6, 6, 7, 8, 8, 9, 29, 40, 41]\n"
     ]
    }
   ],
   "source": [
    "print(data)"
   ]
  },
  {
   "cell_type": "code",
   "execution_count": 48,
   "id": "0df28f69",
   "metadata": {},
   "outputs": [],
   "source": [
    "#to calculate Quantile value for data\n",
    "\n",
    "def QuantileValue(Q , data):\n",
    "    if isinstance(Q,float):\n",
    "        return (data[int(Q)] + data[int(Q)+1])/2\n",
    "    else:\n",
    "        return data[Q]\n",
    "    "
   ]
  },
  {
   "cell_type": "markdown",
   "id": "77238d30",
   "metadata": {},
   "source": [
    "# Find Median"
   ]
  },
  {
   "cell_type": "code",
   "execution_count": 53,
   "id": "fcafd90d",
   "metadata": {},
   "outputs": [
    {
     "name": "stdout",
     "output_type": "stream",
     "text": [
      "The Median for above data is : 6\n"
     ]
    }
   ],
   "source": [
    "import statistics as st\n",
    "print(f\"The Median for above data is : {st.median(data)}\")"
   ]
  },
  {
   "cell_type": "markdown",
   "id": "f33f78e7",
   "metadata": {},
   "source": [
    "# calculate 25 percentile"
   ]
  },
  {
   "cell_type": "code",
   "execution_count": 41,
   "id": "6f8f5d66",
   "metadata": {},
   "outputs": [
    {
     "name": "stdout",
     "output_type": "stream",
     "text": [
      "25th percentile value for data is : 3.5\n"
     ]
    }
   ],
   "source": [
    "Q1= (25/100)*len(data)\n",
    "# 25th percentile for data is \n",
    "Q1_value= QuantileValue(Q1 , data)\n",
    "print(\"25th percentile value for data is :\",Q1_value)"
   ]
  },
  {
   "cell_type": "markdown",
   "id": "3fd66864",
   "metadata": {},
   "source": [
    "# calculate 75percentile"
   ]
  },
  {
   "cell_type": "code",
   "execution_count": 44,
   "id": "384f2be4",
   "metadata": {},
   "outputs": [
    {
     "name": "stdout",
     "output_type": "stream",
     "text": [
      "5.25\n",
      "75th percentile value for data is : 8.0\n"
     ]
    }
   ],
   "source": [
    "Q3= (75/100)*len(data)\n",
    "# 75th quantile for data is \n",
    "Q3_value= QuantileValue(Q3 , data)\n",
    "print(\"75th percentile value for data is :\",Q3_value)"
   ]
  },
  {
   "cell_type": "markdown",
   "id": "66b67b27",
   "metadata": {},
   "source": [
    "# To find lower fence(minimum)"
   ]
  },
  {
   "cell_type": "code",
   "execution_count": 46,
   "id": "1b183c41",
   "metadata": {},
   "outputs": [
    {
     "data": {
      "text/plain": [
       "-1.5"
      ]
     },
     "execution_count": 46,
     "metadata": {},
     "output_type": "execute_result"
    }
   ],
   "source": [
    "# Inter Quartile range\n",
    "IQR = Q3_value - Q1_value\n",
    "\n",
    "Lower_fence= Q1 - 1.5*(IQR)\n",
    "\n",
    "Lower_fence"
   ]
  },
  {
   "cell_type": "markdown",
   "id": "5ef4263a",
   "metadata": {},
   "source": [
    "# To find Upper fence (Maximum)"
   ]
  },
  {
   "cell_type": "code",
   "execution_count": 47,
   "id": "322bddeb",
   "metadata": {},
   "outputs": [
    {
     "data": {
      "text/plain": [
       "22.5"
      ]
     },
     "execution_count": 47,
     "metadata": {},
     "output_type": "execute_result"
    }
   ],
   "source": [
    "# To find Upper fence\n",
    "# Inter Quartile range\n",
    "IQR = Q3_value - Q1_value\n",
    "\n",
    "Upper_fence= Q3 + 1.5*(IQR)\n",
    "\n",
    "Upper_fence"
   ]
  },
  {
   "cell_type": "markdown",
   "id": "e8014f6c",
   "metadata": {},
   "source": [
    "# Outliers\n",
    "\n",
    "Values below lower fence and above upper fence are outliers\n",
    "\n",
    "Note :\n",
    "In our case \n",
    "**Value less than -1.5** and **values greater than 22.5** are outilers"
   ]
  },
  {
   "cell_type": "code",
   "execution_count": 37,
   "id": "ee8a443f",
   "metadata": {},
   "outputs": [
    {
     "data": {
      "text/plain": [
       "<AxesSubplot: >"
      ]
     },
     "execution_count": 37,
     "metadata": {},
     "output_type": "execute_result"
    },
    {
     "data": {
      "image/png": "[encoded data removed]",
      "text/plain": [
       "<Figure size 640x480 with 1 Axes>"
      ]
     },
     "metadata": {},
     "output_type": "display_data"
    }
   ],
   "source": [
    "sns.boxplot(data)"
   ]
  }
 ],
 "metadata": {
  "kernelspec": {
   "display_name": "Python 3 (ipykernel)",
   "language": "python",
   "name": "python3"
  },
  "language_info": {
   "codemirror_mode": {
    "name": "ipython",
    "version": 3
   },
   "file_extension": ".py",
   "mimetype": "text/x-python",
   "name": "python",
   "nbconvert_exporter": "python",
   "pygments_lexer": "ipython3",
   "version": "3.10.11"
  }
 },
 "nbformat": 4,
 "nbformat_minor": 5
}
