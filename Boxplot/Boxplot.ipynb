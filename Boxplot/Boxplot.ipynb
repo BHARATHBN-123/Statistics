{
 "cells": [
  {
   "cell_type": "markdown",
   "id": "83acf928",
   "metadata": {},
   "source": [
    "# Boxplot "
   ]
  },
  {
   "cell_type": "markdown",
   "id": "c147401c",
   "metadata": {},
   "source": [
    "# Percentiles and Quartiles\n",
    "\n",
    "**percentile** is a measure used to indicate the value below which a given percentage of observations in a group of observations fall. For example, the 20th percentile is the value below which 20% of the observations may be found.\n",
    "\n",
    "A **quartile** is a value that divides a rank-ordered data set into two parts, such that a certain percentage of the data falls below the quantile and the remaining percentage falls above it. For example, the 25th percentile is the value below which 25% of the data falls and above which 75% of the data falls.\n",
    "\n"
   ]
  },
  {
   "cell_type": "markdown",
   "id": "a49e5608",
   "metadata": {},
   "source": [
    "<img src=\"https://miro.medium.com/max/9000/1*2c21SkzJMf3frPXPAR_gZA.png\">"
   ]
  },
  {
   "cell_type": "markdown",
   "id": "ebeb1501",
   "metadata": {},
   "source": [
    "# The parts of a boxplot are:\n",
    "**Minimum:** The smallest value in the data set.\n",
    "\n",
    "**First quartile (Q1):** The median of the lower half of the data set.\n",
    "\n",
    "**Median:** The middle value in the data set.\n",
    "\n",
    "**Third quartile (Q3):** The median of the upper half of the data set.\n",
    "\n",
    "**Maximum:** The largest value in the data set.\n",
    "\n",
    "**Outiers:** An outlier is a data point that differs significantly from other observations. Outliers may be due to a variability in the measurement, an indication of novel data, or it may be the result of experimental error; the latter are sometimes excluded from the data set."
   ]
  },
  {
   "cell_type": "code",
   "execution_count": 1,
   "id": "e7cff7cb",
   "metadata": {},
   "outputs": [],
   "source": [
    "import seaborn as sns\n"
   ]
  },
  {
   "cell_type": "code",
   "execution_count": 2,
   "id": "229c930c",
   "metadata": {},
   "outputs": [],
   "source": [
    "data = [1,2,4,6,7,12,18,34,77,66,108,99,14]"
   ]
  },
  {
   "cell_type": "code",
   "execution_count": 3,
   "id": "51412652",
   "metadata": {},
   "outputs": [],
   "source": [
    "data.sort()"
   ]
  },
  {
   "cell_type": "code",
   "execution_count": 4,
   "id": "7638d07c",
   "metadata": {},
   "outputs": [
    {
     "name": "stdout",
     "output_type": "stream",
     "text": [
      "[1, 2, 4, 6, 7, 12, 14, 18, 34, 66, 77, 99, 108]\n"
     ]
    }
   ],
   "source": [
    "print(data)"
   ]
  },
  {
   "cell_type": "code",
   "execution_count": 5,
   "id": "0ff015a6",
   "metadata": {},
   "outputs": [],
   "source": [
    "#to calculate Quantile value for data\n",
    "\n",
    "def QuantileValue(Q , data):\n",
    "    if isinstance(Q,float):\n",
    "        return ((data[int(Q)-1] + data[int(Q)])/2)\n",
    "        print(\"float\")\n",
    "    else:\n",
    "        return data[int(Q)-1]\n",
    "    "
   ]
  },
  {
   "cell_type": "markdown",
   "id": "3ab2c924",
   "metadata": {},
   "source": [
    "# Find Median"
   ]
  },
  {
   "cell_type": "code",
   "execution_count": 6,
   "id": "1e81d890",
   "metadata": {},
   "outputs": [
    {
     "name": "stdout",
     "output_type": "stream",
     "text": [
      "The Median for above data is : 14\n"
     ]
    }
   ],
   "source": [
    "import statistics as st\n",
    "print(f\"The Median for above data is : {st.median(data)}\")"
   ]
  },
  {
   "cell_type": "markdown",
   "id": "87e09ef1",
   "metadata": {},
   "source": [
    "# calculate 25 percentile"
   ]
  },
  {
   "cell_type": "code",
   "execution_count": 14,
   "id": "15442586",
   "metadata": {},
   "outputs": [
    {
     "name": "stdout",
     "output_type": "stream",
     "text": [
      "3.25\n",
      "25th percentile value for data is : 5.0\n"
     ]
    }
   ],
   "source": [
    "Q1= (25/100)*(len(data)+1)\n",
    "print(Q1)\n",
    "# 25th percentile for data is \n",
    "Q1_value= QuantileValue(Q1 , data)\n",
    "print(\"25th percentile value for data is :\",Q1_value)"
   ]
  },
  {
   "cell_type": "code",
   "execution_count": 15,
   "id": "34f87a40",
   "metadata": {},
   "outputs": [
    {
     "data": {
      "text/plain": [
       "array([66.])"
      ]
     },
     "execution_count": 15,
     "metadata": {},
     "output_type": "execute_result"
    }
   ],
   "source": [
    "import numpy as np\n",
    "np.percentile(data,[75])"
   ]
  },
  {
   "cell_type": "markdown",
   "id": "1f16f32d",
   "metadata": {},
   "source": [
    "# calculate 75percentile"
   ]
  },
  {
   "cell_type": "code",
   "execution_count": 8,
   "id": "54c8fbdb",
   "metadata": {},
   "outputs": [
    {
     "name": "stdout",
     "output_type": "stream",
     "text": [
      "75th percentile value for data is : 71.5\n"
     ]
    }
   ],
   "source": [
    "Q3= (75/100)*(len(data)+1)\n",
    "# 75th quantile for data is \n",
    "Q3_value= QuantileValue(Q3 , data)\n",
    "print(\"75th percentile value for data is :\",Q3_value)"
   ]
  },
  {
   "cell_type": "markdown",
   "id": "17c2bcf7",
   "metadata": {},
   "source": [
    "# To find lower fence(minimum)"
   ]
  },
  {
   "cell_type": "code",
   "execution_count": 9,
   "id": "73e1beb9",
   "metadata": {},
   "outputs": [
    {
     "data": {
      "text/plain": [
       "-94.75"
      ]
     },
     "execution_count": 9,
     "metadata": {},
     "output_type": "execute_result"
    }
   ],
   "source": [
    "# Inter Quartile range\n",
    "IQR = Q3_value-Q1_value\n",
    "\n",
    "Lower_fence= Q1_value - (1.5*(IQR))\n",
    "\n",
    "Lower_fence"
   ]
  },
  {
   "cell_type": "markdown",
   "id": "8eade44e",
   "metadata": {},
   "source": [
    "# To find Upper fence (Maximum)"
   ]
  },
  {
   "cell_type": "code",
   "execution_count": 10,
   "id": "13dc0887",
   "metadata": {},
   "outputs": [
    {
     "name": "stdout",
     "output_type": "stream",
     "text": [
      "66.5\n",
      "10.5\n"
     ]
    },
    {
     "data": {
      "text/plain": [
       "171.25"
      ]
     },
     "execution_count": 10,
     "metadata": {},
     "output_type": "execute_result"
    }
   ],
   "source": [
    "# To find Upper fence\n",
    "# Inter Quartile range\n",
    "IQR = Q3_value-Q1_value\n",
    "print(IQR)\n",
    "Upper_fence= Q3_value + 1.5*(IQR)\n",
    "print(Q3)\n",
    "Upper_fence"
   ]
  },
  {
   "cell_type": "markdown",
   "id": "e2c0f958",
   "metadata": {},
   "source": [
    "# Outliers\n",
    "\n",
    "Values below lower fence and above upper fence are outliers\n",
    "\n",
    "Note :\n",
    "In our case \n",
    "**Value less than -1.5** and **values greater than 22.5** are outilers"
   ]
  },
  {
   "cell_type": "code",
   "execution_count": 11,
   "id": "0dda539c",
   "metadata": {},
   "outputs": [
    {
     "data": {
      "text/plain": [
       "<AxesSubplot: >"
      ]
     },
     "execution_count": 11,
     "metadata": {},
     "output_type": "execute_result"
    },
    {
     "data": {
      "image/png": "[encoded data removed]",
      "text/plain": [
       "<Figure size 640x480 with 1 Axes>"
      ]
     },
     "metadata": {},
     "output_type": "display_data"
    }
   ],
   "source": [
    "sns.boxplot(data)"
   ]
  }
 ],
 "metadata": {
  "kernelspec": {
   "display_name": "Python 3 (ipykernel)",
   "language": "python",
   "name": "python3"
  },
  "language_info": {
   "codemirror_mode": {
    "name": "ipython",
    "version": 3
   },
   "file_extension": ".py",
   "mimetype": "text/x-python",
   "name": "python",
   "nbconvert_exporter": "python",
   "pygments_lexer": "ipython3",
   "version": "3.10.11"
  }
 },
 "nbformat": 4,
 "nbformat_minor": 5
}
